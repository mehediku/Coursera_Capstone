{
 "cells": [
  {
   "cell_type": "markdown",
   "metadata": {
    "deletable": true,
    "editable": true
   },
   "source": [
    "# Recommend  Location (Academic Institute) and Type of Food Venue for Opening Business  "
   ]
  },
  {
   "cell_type": "markdown",
   "metadata": {
    "deletable": true,
    "editable": true
   },
   "source": [
    "## Problem Description\n",
    "#### One of my friends came to Canada as a new immigrant who had experience in food/restaurant business in his home country. He was wondering what to do in Canada. He asked me about the possibility to start a food corner/restaurant/coffee shop near an academic institute, particularly in Toronto city.  My friends requested me to help him to suggest a suitable location or institute and type of food corner/restaurant/coffee shop he should start with. So he requested me to perform feasibility study by visiting all the academic institutes in Toronto. I told him that I can recommend you a proper place and suitable business using my Data Science knowledge instead of visiting all the institutes physically.\n",
    "\n",
    "#### Opening a restaurant is all about location, location, location. However, not every restaurant is suitable for every location, and vice versa. It comes down to a combination of restaurant concept and ideal customer. So the objective of this project is to recommend someone who is interested to open a food corner/restaurant/coffee shop nearby a college or university in the Toronto city. Mainly, the outcome of this project is to recommend popular type of restaurants among the students nearby by each academic areas. Based on the results one can decide the type of restaurant he should open and in which institute.\n",
    "\n"
   ]
  },
  {
   "cell_type": "markdown",
   "metadata": {
    "deletable": true,
    "editable": true
   },
   "source": [
    "-------------------------------\n",
    "##### Thank you for your time\n",
    "#####  Mehedi Masud\n",
    "\n"
   ]
  },
  {
   "cell_type": "code",
   "execution_count": null,
   "metadata": {
    "collapsed": true,
    "deletable": true,
    "editable": true
   },
   "outputs": [],
   "source": []
  }
 ],
 "metadata": {
  "kernelspec": {
   "display_name": "Python 2",
   "language": "python",
   "name": "python2"
  },
  "language_info": {
   "codemirror_mode": {
    "name": "ipython",
    "version": 2
   },
   "file_extension": ".py",
   "mimetype": "text/x-python",
   "name": "python",
   "nbconvert_exporter": "python",
   "pygments_lexer": "ipython2",
   "version": "2.7.13"
  }
 },
 "nbformat": 4,
 "nbformat_minor": 1
}
