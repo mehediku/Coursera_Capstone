{
 "cells": [
  {
   "cell_type": "markdown",
   "metadata": {
    "deletable": true,
    "editable": true
   },
   "source": [
    "# Peer-graded Assignment: Segmenting and Clustering Neighborhoods in Toronto"
   ]
  },
  {
   "cell_type": "markdown",
   "metadata": {
    "deletable": true,
    "editable": true
   },
   "source": [
    "### Data pre-processing"
   ]
  },
  {
   "cell_type": "code",
   "execution_count": 1,
   "metadata": {
    "collapsed": true,
    "deletable": true,
    "editable": true
   },
   "outputs": [],
   "source": [
    "# importing necessary libraries\n",
    "import pandas as pd\n",
    "import numpy as np\n",
    "from bs4 import BeautifulSoup\n",
    "import requests"
   ]
  },
  {
   "cell_type": "code",
   "execution_count": 2,
   "metadata": {
    "collapsed": true,
    "deletable": true,
    "editable": true
   },
   "outputs": [],
   "source": [
    "# getting data from internet\n",
    "wikipedia_link='https://en.wikipedia.org/wiki/List_of_postal_codes_of_Canada:_M'\n",
    "raw_wikipedia_page= requests.get(wikipedia_link).text\n",
    "\n",
    "# using beautiful soup to parse the HTML/XML codes.\n",
    "soup = BeautifulSoup(raw_wikipedia_page,'xml')\n",
    "#print(soup.prettify())"
   ]
  },
  {
   "cell_type": "markdown",
   "metadata": {
    "deletable": true,
    "editable": true
   },
   "source": [
    "### Processing-part-1: extracting raw table (from webpage)"
   ]
  },
  {
   "cell_type": "code",
   "execution_count": 3,
   "metadata": {
    "collapsed": true,
    "deletable": true,
    "editable": true
   },
   "outputs": [],
   "source": [
    "# extracting the raw table inside that webpage\n",
    "table = soup.find('table')\n",
    "\n",
    "Postcode      = []\n",
    "Borough       = []\n",
    "Neighbourhood = []\n",
    "\n",
    "# print(table)\n",
    "\n",
    "# extracting a clean form of the table\n",
    "for tr_cell in table.find_all('tr'):\n",
    "    \n",
    "    counter = 1\n",
    "    Postcode_var      = -1\n",
    "    Borough_var       = -1\n",
    "    Neighbourhood_var = -1\n",
    "    \n",
    "    for td_cell in tr_cell.find_all('td'):\n",
    "        if counter == 1: \n",
    "            Postcode_var = td_cell.text\n",
    "        if counter == 2: \n",
    "            Borough_var = td_cell.text\n",
    "            tag_a_Borough = td_cell.find('a')\n",
    "            \n",
    "        if counter == 3: \n",
    "            Neighbourhood_var = str(td_cell.text).strip()\n",
    "            tag_a_Neighbourhood = td_cell.find('a')\n",
    "            \n",
    "        counter +=1\n",
    "        \n",
    "    if (Postcode_var == 'Not assigned' or Borough_var == 'Not assigned' or Neighbourhood_var == 'Not assigned'): \n",
    "        continue\n",
    "    try:\n",
    "        if ((tag_a_Borough is None) or (tag_a_Neighbourhood is None)):\n",
    "            continue\n",
    "    except:\n",
    "        pass\n",
    "    if(Postcode_var == -1 or Borough_var == -1 or Neighbourhood_var == -1):\n",
    "        continue\n",
    "        \n",
    "    Postcode.append(Postcode_var)\n",
    "    Borough.append(Borough_var)\n",
    "    Neighbourhood.append(Neighbourhood_var)\n",
    "    "
   ]
  },
  {
   "cell_type": "markdown",
   "metadata": {
    "deletable": true,
    "editable": true
   },
   "source": [
    "### Merging Postal codes with more than 1 neighbour"
   ]
  },
  {
   "cell_type": "code",
   "execution_count": 4,
   "metadata": {
    "collapsed": false,
    "deletable": true,
    "editable": true
   },
   "outputs": [
    {
     "name": "stdout",
     "output_type": "stream",
     "text": [
      "('num of unique Postal codes:', 84)\n"
     ]
    }
   ],
   "source": [
    "\n",
    "unique_p = set(Postcode)\n",
    "print('num of unique Postal codes:', len(unique_p))\n",
    "Postcode_u      = []\n",
    "Borough_u       = []\n",
    "Neighbourhood_u = []\n",
    "\n",
    "\n",
    "for postcode_unique_element in unique_p:\n",
    "    p_var = ''; b_var = ''; n_var = ''; \n",
    "    for postcode_idx, postcode_element in enumerate(Postcode):\n",
    "        if postcode_unique_element == postcode_element:\n",
    "            p_var = postcode_element;\n",
    "            b_var = Borough[postcode_idx]\n",
    "            if n_var == '': \n",
    "                n_var = Neighbourhood[postcode_idx]\n",
    "            else:\n",
    "                n_var = n_var + ', ' + Neighbourhood[postcode_idx]\n",
    "    Postcode_u.append(p_var)\n",
    "    Borough_u.append(b_var)\n",
    "    Neighbourhood_u.append(n_var)\n",
    "\n",
    "    "
   ]
  },
  {
   "cell_type": "markdown",
   "metadata": {
    "deletable": true,
    "editable": true
   },
   "source": [
    "### Ceating an appropriate Pandas Dataframe and save to file for further analysis"
   ]
  },
  {
   "cell_type": "code",
   "execution_count": 5,
   "metadata": {
    "collapsed": false,
    "deletable": true,
    "editable": true
   },
   "outputs": [
    {
     "data": {
      "text/html": [
       "<div>\n",
       "<style>\n",
       "    .dataframe thead tr:only-child th {\n",
       "        text-align: right;\n",
       "    }\n",
       "\n",
       "    .dataframe thead th {\n",
       "        text-align: left;\n",
       "    }\n",
       "\n",
       "    .dataframe tbody tr th {\n",
       "        vertical-align: top;\n",
       "    }\n",
       "</style>\n",
       "<table border=\"1\" class=\"dataframe\">\n",
       "  <thead>\n",
       "    <tr style=\"text-align: right;\">\n",
       "      <th></th>\n",
       "      <th>Postalcode</th>\n",
       "      <th>Borough</th>\n",
       "      <th>Neighbourhood</th>\n",
       "    </tr>\n",
       "  </thead>\n",
       "  <tbody>\n",
       "    <tr>\n",
       "      <th>0</th>\n",
       "      <td>M4T</td>\n",
       "      <td>Central Toronto</td>\n",
       "      <td>Moore Park</td>\n",
       "    </tr>\n",
       "    <tr>\n",
       "      <th>1</th>\n",
       "      <td>M1C</td>\n",
       "      <td>Scarborough</td>\n",
       "      <td>Highland Creek, Rouge Hill, Port Union</td>\n",
       "    </tr>\n",
       "    <tr>\n",
       "      <th>2</th>\n",
       "      <td>M1B</td>\n",
       "      <td>Scarborough</td>\n",
       "      <td>Rouge, Malvern</td>\n",
       "    </tr>\n",
       "    <tr>\n",
       "      <th>3</th>\n",
       "      <td>M1E</td>\n",
       "      <td>Scarborough</td>\n",
       "      <td>Morningside, West Hill</td>\n",
       "    </tr>\n",
       "    <tr>\n",
       "      <th>4</th>\n",
       "      <td>M4N</td>\n",
       "      <td>Central Toronto</td>\n",
       "      <td>Lawrence Park</td>\n",
       "    </tr>\n",
       "  </tbody>\n",
       "</table>\n",
       "</div>"
      ],
      "text/plain": [
       "  Postalcode          Borough                           Neighbourhood\n",
       "0        M4T  Central Toronto                              Moore Park\n",
       "1        M1C      Scarborough  Highland Creek, Rouge Hill, Port Union\n",
       "2        M1B      Scarborough                          Rouge, Malvern\n",
       "3        M1E      Scarborough                  Morningside, West Hill\n",
       "4        M4N  Central Toronto                           Lawrence Park"
      ]
     },
     "execution_count": 5,
     "metadata": {},
     "output_type": "execute_result"
    }
   ],
   "source": [
    "dictToronto = {'Postcode':Postcode_u, 'Borough':Borough_u, 'Neighbourhood':Neighbourhood_u}\n",
    "df = pd.DataFrame.from_dict(dictToronto)\n",
    "df = df[['Postcode','Borough','Neighbourhood']]\n",
    "df.columns=['Postalcode','Borough','Neighbourhood']\n",
    "df.to_csv('toronto_data.csv')\n",
    "df.head()"
   ]
  },
  {
   "cell_type": "code",
   "execution_count": 6,
   "metadata": {
    "collapsed": false,
    "deletable": true,
    "editable": true
   },
   "outputs": [
    {
     "data": {
      "text/plain": [
       "(84, 3)"
      ]
     },
     "execution_count": 6,
     "metadata": {},
     "output_type": "execute_result"
    }
   ],
   "source": [
    "df.shape"
   ]
  },
  {
   "cell_type": "markdown",
   "metadata": {
    "collapsed": true,
    "deletable": true,
    "editable": true
   },
   "source": [
    "## Thank You"
   ]
  },
  {
   "cell_type": "code",
   "execution_count": null,
   "metadata": {
    "collapsed": true,
    "deletable": true,
    "editable": true
   },
   "outputs": [],
   "source": []
  }
 ],
 "metadata": {
  "kernelspec": {
   "display_name": "Python 2",
   "language": "python",
   "name": "python2"
  },
  "language_info": {
   "codemirror_mode": {
    "name": "ipython",
    "version": 2
   },
   "file_extension": ".py",
   "mimetype": "text/x-python",
   "name": "python",
   "nbconvert_exporter": "python",
   "pygments_lexer": "ipython2",
   "version": "2.7.13"
  }
 },
 "nbformat": 4,
 "nbformat_minor": 2
}
